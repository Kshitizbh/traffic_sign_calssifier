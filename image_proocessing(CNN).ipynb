{
 "cells": [
  {
   "cell_type": "code",
   "execution_count": 19,
   "id": "abd4d22c",
   "metadata": {},
   "outputs": [],
   "source": [
    "#importing all the libraries\n",
    "import os\n",
    "import numpy as np\n",
    "import pandas as pd\n",
    "from matplotlib import pyplot as plt\n",
    "from PIL import Image\n",
    "import tensorflow as tf\n",
    "from keras.utils import to_categorical"
   ]
  },
  {
   "cell_type": "code",
   "execution_count": 2,
   "id": "b1cb90fd",
   "metadata": {},
   "outputs": [
    {
     "data": {
      "text/plain": [
       "'C:\\\\Users\\\\acer\\\\Desktop\\\\Data Science\\\\ML project\\\\New folder'"
      ]
     },
     "execution_count": 2,
     "metadata": {},
     "output_type": "execute_result"
    }
   ],
   "source": [
    "#giving path of the current directory\n",
    "cur_path = os.getcwd()\n",
    "cur_path"
   ]
  },
  {
   "cell_type": "code",
   "execution_count": 8,
   "id": "b8a3124a",
   "metadata": {},
   "outputs": [],
   "source": [
    "#store data , labels in the list\n",
    "data = []\n",
    "labels = []\n",
    "classes = 43"
   ]
  },
  {
   "cell_type": "code",
   "execution_count": 11,
   "id": "880a9ab7",
   "metadata": {},
   "outputs": [],
   "source": [
    "#loading data from the directory and converting img to an array\n",
    "for i in range(classes):\n",
    "    path = os.path.join(cur_path, 'Train', str(i))\n",
    "    images = os.listdir(path)\n",
    "    for a in images:\n",
    "        try: \n",
    "            image = Image.open(path + '\\\\' + a)\n",
    "            image = image.resize((30,30))\n",
    "            image = np.array(image)\n",
    "            data.append(image)\n",
    "            labels.append(i)\n",
    "        except Exception as e:\n",
    "            print (e)"
   ]
  },
  {
   "cell_type": "code",
   "execution_count": 12,
   "id": "62b57a06",
   "metadata": {},
   "outputs": [],
   "source": [
    "#converting lists into numpy array\n",
    "data = np.array(data)\n",
    "labels = np.array(labels)"
   ]
  },
  {
   "cell_type": "code",
   "execution_count": 13,
   "id": "901d411f",
   "metadata": {
    "scrolled": true
   },
   "outputs": [
    {
     "data": {
      "image/png": "[encoded data removed]",
      "text/plain": [
       "<Figure size 640x480 with 1 Axes>"
      ]
     },
     "metadata": {},
     "output_type": "display_data"
    }
   ],
   "source": [
    "#sample image\n",
    "img = Image.open('Train/0/00000_00004_00029.png')\n",
    "img = img.resize((30,30))\n",
    "sr = np.array(img)\n",
    "plt.imshow(img)\n",
    "plt.show()"
   ]
  },
  {
   "cell_type": "code",
   "execution_count": 14,
   "id": "5058317a",
   "metadata": {},
   "outputs": [
    {
     "name": "stdout",
     "output_type": "stream",
     "text": [
      "training shape:  (29406, 30, 30, 3) (29406,)\n",
      "testing shape:  [[[[106  59  42]\n",
      "   [ 94  54  38]\n",
      "   [ 74  50  33]\n",
      "   ...\n",
      "   [138  82  41]\n",
      "   [131  82  47]\n",
      "   [170 109  65]]\n",
      "\n",
      "  [[105  66  47]\n",
      "   [ 89  58  40]\n",
      "   [ 88  50  29]\n",
      "   ...\n",
      "   [ 97  60  25]\n",
      "   [ 58  48  18]\n",
      "   [ 75  63  27]]\n",
      "\n",
      "  [[117  73  48]\n",
      "   [ 96  63  36]\n",
      "   [102  57  27]\n",
      "   ...\n",
      "   [ 95  63  32]\n",
      "   [ 73  54  22]\n",
      "   [ 75  55  22]]\n",
      "\n",
      "  ...\n",
      "\n",
      "  [[ 95  52  31]\n",
      "   [ 90  56  37]\n",
      "   [ 82  48  30]\n",
      "   ...\n",
      "   [ 95  68  33]\n",
      "   [ 96  64  37]\n",
      "   [ 98  70  38]]\n",
      "\n",
      "  [[ 96  59  41]\n",
      "   [ 98  57  42]\n",
      "   [104  62  50]\n",
      "   ...\n",
      "   [102  74  41]\n",
      "   [115  81  57]\n",
      "   [104  71  44]]\n",
      "\n",
      "  [[115  77  52]\n",
      "   [122  74  49]\n",
      "   [123  80  56]\n",
      "   ...\n",
      "   [112  83  46]\n",
      "   [ 90  66  35]\n",
      "   [ 82  58  31]]]\n",
      "\n",
      "\n",
      " [[[188 217 221]\n",
      "   [252 255 255]\n",
      "   [255 255 255]\n",
      "   ...\n",
      "   [ 21  21  23]\n",
      "   [ 20  19  21]\n",
      "   [ 20  19  22]]\n",
      "\n",
      "  [[193 211 214]\n",
      "   [255 255 255]\n",
      "   [255 255 255]\n",
      "   ...\n",
      "   [ 20  18  20]\n",
      "   [ 19  18  20]\n",
      "   [ 19  18  23]]\n",
      "\n",
      "  [[194 207 211]\n",
      "   [255 255 255]\n",
      "   [255 255 255]\n",
      "   ...\n",
      "   [ 19  17  19]\n",
      "   [ 19  17  20]\n",
      "   [ 18  18  21]]\n",
      "\n",
      "  ...\n",
      "\n",
      "  [[ 23  20  22]\n",
      "   [ 22  19  22]\n",
      "   [ 23  20  22]\n",
      "   ...\n",
      "   [ 38  34  32]\n",
      "   [ 40  33  33]\n",
      "   [ 42  35  35]]\n",
      "\n",
      "  [[ 26  22  25]\n",
      "   [ 28  23  26]\n",
      "   [ 25  21  24]\n",
      "   ...\n",
      "   [ 56  48  45]\n",
      "   [ 60  49  43]\n",
      "   [ 64  49  44]]\n",
      "\n",
      "  [[ 35  31  36]\n",
      "   [ 35  31  36]\n",
      "   [ 32  29  35]\n",
      "   ...\n",
      "   [109  83  78]\n",
      "   [113 104  94]\n",
      "   [146 133 121]]]\n",
      "\n",
      "\n",
      " [[[ 91 118 111]\n",
      "   [152 178 167]\n",
      "   [112 134 126]\n",
      "   ...\n",
      "   [ 48  45  42]\n",
      "   [ 54  50  46]\n",
      "   [ 56  49  45]]\n",
      "\n",
      "  [[ 75  95  99]\n",
      "   [146 165 173]\n",
      "   [122 139 133]\n",
      "   ...\n",
      "   [ 46  44  41]\n",
      "   [ 50  47  43]\n",
      "   [ 53  47  42]]\n",
      "\n",
      "  [[ 94 104 102]\n",
      "   [139 150 149]\n",
      "   [115 127 127]\n",
      "   ...\n",
      "   [ 46  44  40]\n",
      "   [ 49  45  40]\n",
      "   [ 53  47  42]]\n",
      "\n",
      "  ...\n",
      "\n",
      "  [[ 30  27  25]\n",
      "   [ 29  28  26]\n",
      "   [ 29  29  26]\n",
      "   ...\n",
      "   [ 47  43  42]\n",
      "   [ 47  44  42]\n",
      "   [ 48  45  43]]\n",
      "\n",
      "  [[ 30  28  25]\n",
      "   [ 30  29  26]\n",
      "   [ 30  30  27]\n",
      "   ...\n",
      "   [ 46  43  42]\n",
      "   [ 49  45  43]\n",
      "   [ 48  43  40]]\n",
      "\n",
      "  [[ 30  29  26]\n",
      "   [ 31  30  27]\n",
      "   [ 30  29  27]\n",
      "   ...\n",
      "   [ 46  43  41]\n",
      "   [ 50  46  44]\n",
      "   [ 54  46  43]]]\n",
      "\n",
      "\n",
      " ...\n",
      "\n",
      "\n",
      " [[[ 24  24  21]\n",
      "   [ 25  25  20]\n",
      "   [ 25  26  20]\n",
      "   ...\n",
      "   [ 47  42  36]\n",
      "   [ 41  35  31]\n",
      "   [ 27  22  21]]\n",
      "\n",
      "  [[ 26  25  22]\n",
      "   [ 26  26  23]\n",
      "   [ 25  25  21]\n",
      "   ...\n",
      "   [ 25  24  23]\n",
      "   [ 21  20  18]\n",
      "   [ 26  23  21]]\n",
      "\n",
      "  [[ 27  25  21]\n",
      "   [ 25  26  21]\n",
      "   [ 26  26  22]\n",
      "   ...\n",
      "   [ 24  22  21]\n",
      "   [ 31  28  25]\n",
      "   [ 38  31  28]]\n",
      "\n",
      "  ...\n",
      "\n",
      "  [[ 20  19  18]\n",
      "   [ 25  23  21]\n",
      "   [ 28  26  22]\n",
      "   ...\n",
      "   [ 40  32  24]\n",
      "   [ 33  31  28]\n",
      "   [ 29  28  26]]\n",
      "\n",
      "  [[ 24  20  19]\n",
      "   [ 25  22  21]\n",
      "   [ 32  28  24]\n",
      "   ...\n",
      "   [ 38  34  25]\n",
      "   [ 33  31  26]\n",
      "   [ 31  31  27]]\n",
      "\n",
      "  [[ 27  25  24]\n",
      "   [ 25  23  22]\n",
      "   [ 29  27  24]\n",
      "   ...\n",
      "   [ 34  31  26]\n",
      "   [ 37  33  29]\n",
      "   [ 34  34  30]]]\n",
      "\n",
      "\n",
      " [[[ 56  51  51]\n",
      "   [ 47  46  47]\n",
      "   [ 43  41  45]\n",
      "   ...\n",
      "   [ 52  54  57]\n",
      "   [ 65  59  70]\n",
      "   [ 60  53  58]]\n",
      "\n",
      "  [[ 56  50  50]\n",
      "   [ 52  49  48]\n",
      "   [ 45  44  47]\n",
      "   ...\n",
      "   [ 63  70  69]\n",
      "   [ 65  61  66]\n",
      "   [ 55  51  52]]\n",
      "\n",
      "  [[ 58  50  49]\n",
      "   [ 56  50  50]\n",
      "   [ 51  47  49]\n",
      "   ...\n",
      "   [ 65  73  68]\n",
      "   [ 55  55  53]\n",
      "   [ 53  54  58]]\n",
      "\n",
      "  ...\n",
      "\n",
      "  [[ 39  35  40]\n",
      "   [ 40  36  40]\n",
      "   [ 38  35  39]\n",
      "   ...\n",
      "   [ 44  42  45]\n",
      "   [ 50  47  48]\n",
      "   [ 58  56  58]]\n",
      "\n",
      "  [[ 42  37  38]\n",
      "   [ 42  38  39]\n",
      "   [ 41  38  42]\n",
      "   ...\n",
      "   [ 47  43  45]\n",
      "   [ 51  46  49]\n",
      "   [ 59  56  62]]\n",
      "\n",
      "  [[ 51  46  46]\n",
      "   [ 46  41  41]\n",
      "   [ 47  42  44]\n",
      "   ...\n",
      "   [ 50  43  44]\n",
      "   [ 48  43  45]\n",
      "   [ 56  53  57]]]\n",
      "\n",
      "\n",
      " [[[ 28  28  28]\n",
      "   [ 29  28  28]\n",
      "   [ 30  28  28]\n",
      "   ...\n",
      "   [ 29  28  30]\n",
      "   [ 29  28  30]\n",
      "   [ 28  27  29]]\n",
      "\n",
      "  [[ 28  27  27]\n",
      "   [ 29  28  29]\n",
      "   [ 29  28  28]\n",
      "   ...\n",
      "   [ 32  31  30]\n",
      "   [ 29  27  27]\n",
      "   [ 27  26  27]]\n",
      "\n",
      "  [[ 29  27  28]\n",
      "   [ 30  29  31]\n",
      "   [ 28  27  28]\n",
      "   ...\n",
      "   [ 33  31  30]\n",
      "   [ 31  28  28]\n",
      "   [ 29  28  28]]\n",
      "\n",
      "  ...\n",
      "\n",
      "  [[ 39  38  36]\n",
      "   [ 40  40  39]\n",
      "   [ 36  38  37]\n",
      "   ...\n",
      "   [ 41  41  43]\n",
      "   [ 27  28  27]\n",
      "   [ 27  28  27]]\n",
      "\n",
      "  [[ 36  35  31]\n",
      "   [ 34  34  31]\n",
      "   [ 32  33  32]\n",
      "   ...\n",
      "   [ 37  37  37]\n",
      "   [ 30  30  28]\n",
      "   [ 29  29  26]]\n",
      "\n",
      "  [[ 32  31  26]\n",
      "   [ 30  30  25]\n",
      "   [ 30  30  27]\n",
      "   ...\n",
      "   [ 35  33  31]\n",
      "   [ 31  29  27]\n",
      "   [ 32  30  27]]]] [26 15 13 ...  3 14 10]\n"
     ]
    }
   ],
   "source": [
    "#spliting data into train and test\n",
    "from sklearn.model_selection import train_test_split\n",
    "X_train,X_test,y_train,y_test = train_test_split(data,labels, test_size = 0.25,random_state = 42)\n",
    "print('training shape: ', X_train.shape, y_train.shape)\n",
    "print('testing shape: ', X_test,y_test)\n",
    "y_train = to_categorical(y_train, 43)\n",
    "y_test  =to_categorical(y_test, 43)"
   ]
  },
  {
   "cell_type": "code",
   "execution_count": 20,
   "id": "a14212c0",
   "metadata": {},
   "outputs": [],
   "source": [
    "#importing the required layers and modules to create our convolution neural network architecture\n",
    "from keras.models import Sequential\n",
    "from keras.layers import Dense\n",
    "from keras.layers import Dropout\n",
    "from keras.layers import Flatten\n",
    "from keras.constraints import maxnorm\n",
    "from keras.optimizers import SGD\n",
    "from keras.layers.convolutional import Conv2D\n",
    "from keras.layers.convolutional import MaxPooling2D\n",
    "from keras.utils import np_utils"
   ]
  },
  {
   "cell_type": "code",
   "execution_count": 22,
   "id": "b3a1f1c0",
   "metadata": {},
   "outputs": [],
   "source": [
    "#building a CNN model\n",
    "model = Sequential()\n",
    "model.add(Conv2D(filters=32, kernel_size=(5,5), activation='relu', input_shape=X_train.shape[1:]))\n",
    "model.add(Conv2D(filters=32, kernel_size=(5,5), activation='relu'))\n",
    "model.add(MaxPool2D(pool_size=(2,2)))\n",
    "model.add(Dropout(rate=0.25))\n",
    "model.add(Conv2D(filters=64, kernel_size=(3,3), activation=\"relu\"))\n",
    "model.add(Conv2D(filters=64, kernel_size=(3,3), activation=\"relu\"))\n",
    "model.add(MaxPool2D(pool_size=(2,2)))\n",
    "model.add(Dropout(rate=0.25))\n",
    "model.add(Flatten())\n",
    "model.add(Dense(256, activation=\"relu\"))\n",
    "model.add(Dropout(rate=0.5))\n",
    "model.add(Dense(43, activation=\"softmax\"))\n"
   ]
  },
  {
   "cell_type": "code",
   "execution_count": 23,
   "id": "fe9da342",
   "metadata": {},
   "outputs": [],
   "source": [
    "# compiling the model\n",
    "model.compile(loss = 'categorical_crossentropy', optimizer='adam', metrics=['accuracy'])"
   ]
  },
  {
   "cell_type": "code",
   "execution_count": 25,
   "id": "aacd8302",
   "metadata": {},
   "outputs": [
    {
     "name": "stdout",
     "output_type": "stream",
     "text": [
      "Epoch 1/15\n",
      "460/460 [==============================] - 105s 217ms/step - loss: 2.4903 - accuracy: 0.3877 - val_loss: 1.0260 - val_accuracy: 0.7374\n",
      "Epoch 2/15\n",
      "460/460 [==============================] - 90s 196ms/step - loss: 1.0830 - accuracy: 0.6821 - val_loss: 0.4548 - val_accuracy: 0.8895\n",
      "Epoch 3/15\n",
      "460/460 [==============================] - 67s 146ms/step - loss: 0.7801 - accuracy: 0.7645 - val_loss: 0.3076 - val_accuracy: 0.9108\n",
      "Epoch 4/15\n",
      "460/460 [==============================] - 65s 142ms/step - loss: 0.5895 - accuracy: 0.8203 - val_loss: 0.1929 - val_accuracy: 0.9483\n",
      "Epoch 5/15\n",
      "460/460 [==============================] - 68s 148ms/step - loss: 0.4672 - accuracy: 0.8567 - val_loss: 0.1406 - val_accuracy: 0.9570\n",
      "Epoch 6/15\n",
      "460/460 [==============================] - 68s 149ms/step - loss: 0.3704 - accuracy: 0.8876 - val_loss: 0.1362 - val_accuracy: 0.9590\n",
      "Epoch 7/15\n",
      "460/460 [==============================] - 68s 147ms/step - loss: 0.3136 - accuracy: 0.9053 - val_loss: 0.0959 - val_accuracy: 0.9748\n",
      "Epoch 8/15\n",
      "460/460 [==============================] - 67s 146ms/step - loss: 0.2815 - accuracy: 0.9160 - val_loss: 0.0845 - val_accuracy: 0.9747\n",
      "Epoch 9/15\n",
      "460/460 [==============================] - 67s 147ms/step - loss: 0.2515 - accuracy: 0.9253 - val_loss: 0.0863 - val_accuracy: 0.9751\n",
      "Epoch 10/15\n",
      "460/460 [==============================] - 68s 148ms/step - loss: 0.2356 - accuracy: 0.9291 - val_loss: 0.0775 - val_accuracy: 0.9765\n",
      "Epoch 11/15\n",
      "460/460 [==============================] - 68s 148ms/step - loss: 0.2307 - accuracy: 0.9315 - val_loss: 0.0649 - val_accuracy: 0.9818\n",
      "Epoch 12/15\n",
      "460/460 [==============================] - 68s 148ms/step - loss: 0.2111 - accuracy: 0.9378 - val_loss: 0.0801 - val_accuracy: 0.9785\n",
      "Epoch 13/15\n",
      "460/460 [==============================] - 67s 147ms/step - loss: 0.2089 - accuracy: 0.9393 - val_loss: 0.0627 - val_accuracy: 0.9817\n",
      "Epoch 14/15\n",
      "460/460 [==============================] - 67s 147ms/step - loss: 0.1921 - accuracy: 0.9435 - val_loss: 0.0957 - val_accuracy: 0.9723\n",
      "Epoch 15/15\n",
      "460/460 [==============================] - 69s 151ms/step - loss: 0.1924 - accuracy: 0.9446 - val_loss: 0.0452 - val_accuracy: 0.9880\n"
     ]
    }
   ],
   "source": [
    "history = model.fit(X_train,y_train, epochs = 15, batch_size = 64, validation_data=(X_test,y_test))"
   ]
  },
  {
   "cell_type": "code",
   "execution_count": 26,
   "id": "befdbc62",
   "metadata": {},
   "outputs": [
    {
     "data": {
      "image/png": "[encoded data removed]",
      "text/plain": [
       "<Figure size 640x480 with 1 Axes>"
      ]
     },
     "metadata": {},
     "output_type": "display_data"
    },
    {
     "data": {
      "image/png": "[encoded data removed]",
      "text/plain": [
       "<Figure size 640x480 with 1 Axes>"
      ]
     },
     "metadata": {},
     "output_type": "display_data"
    }
   ],
   "source": [
    "#accuracy\n",
    "plt.figure(0)\n",
    "plt.plot(history.history['accuracy'], label='Training accuracy')\n",
    "plt.plot(history.history['val_accuracy'], label = 'Val accuracy')\n",
    "plt.title('Accuracy')\n",
    "plt.xlabel('epochs')\n",
    "plt.ylabel('accuracy')\n",
    "plt.legend()\n",
    "plt.figure(1)\n",
    "plt.plot(history.history['loss'], label=\"training loss\")\n",
    "plt.plot(history.history['val_loss'], label=\"val loss\")\n",
    "plt.title(\"Loss\")\n",
    "plt.xlabel(\"epochs\")\n",
    "plt.ylabel(\"Loss\")\n",
    "plt.legend()\n",
    "plt.show()"
   ]
  },
  {
   "cell_type": "code",
   "execution_count": 27,
   "id": "38e66b2b",
   "metadata": {},
   "outputs": [],
   "source": [
    "#testing model\n",
    "def testing(s):\n",
    "    y_test = pd.read_csv(s)\n",
    "    label = y_test['ClassId'].values\n",
    "    imgs = y_test['Path'].values\n",
    "    data = []\n",
    "    for img in imgs:\n",
    "        image = Image.open(img)\n",
    "        image = image.resize((30,30))\n",
    "        data.append(np.array(image))\n",
    "    X_test = np.array(data)\n",
    "    return X_test, label"
   ]
  },
  {
   "cell_type": "code",
   "execution_count": 28,
   "id": "36b49acf",
   "metadata": {},
   "outputs": [],
   "source": [
    "X_test, label = testing('Test.csv')"
   ]
  },
  {
   "cell_type": "code",
   "execution_count": 31,
   "id": "39a2a02b",
   "metadata": {},
   "outputs": [
    {
     "name": "stdout",
     "output_type": "stream",
     "text": [
      "395/395 [==============================] - 5s 11ms/step\n"
     ]
    }
   ],
   "source": [
    "y_pred1 = model.predict(X_test)\n",
    "y_pred2 = np.argmax(y_pred1, axis = 1)\n"
   ]
  },
  {
   "cell_type": "code",
   "execution_count": 32,
   "id": "d7c225a4",
   "metadata": {},
   "outputs": [
    {
     "data": {
      "text/plain": [
       "array([16,  1, 38, ...,  6,  7, 10], dtype=int64)"
      ]
     },
     "execution_count": 32,
     "metadata": {},
     "output_type": "execute_result"
    }
   ],
   "source": [
    "y_pred2"
   ]
  },
  {
   "cell_type": "code",
   "execution_count": 33,
   "id": "a20284fd",
   "metadata": {},
   "outputs": [
    {
     "data": {
      "text/plain": [
       "0.9536025336500396"
      ]
     },
     "execution_count": 33,
     "metadata": {},
     "output_type": "execute_result"
    }
   ],
   "source": [
    "#accuracy with test data\n",
    "from sklearn.metrics import accuracy_score\n",
    "accuracy_score(label, y_pred2)"
   ]
  },
  {
   "cell_type": "code",
   "execution_count": 34,
   "id": "33b6f858",
   "metadata": {},
   "outputs": [],
   "source": [
    "#saving model\n",
    "model.save('traffic_classifier.h5')"
   ]
  },
  {
   "cell_type": "markdown",
   "id": "e97a8b1f",
   "metadata": {},
   "source": [
    "## ***Loading and testing model***"
   ]
  },
  {
   "cell_type": "code",
   "execution_count": 35,
   "id": "0230472b",
   "metadata": {},
   "outputs": [],
   "source": [
    "import os\n",
    "from keras.models import load_model\n",
    "model = load_model('traffic_classifier.h5')"
   ]
  },
  {
   "cell_type": "code",
   "execution_count": 49,
   "id": "d730f220",
   "metadata": {},
   "outputs": [],
   "source": [
    "#classes of trafic signs\n",
    "classes = { 0:'Speed limit (20km/h)',\n",
    "            1:'Speed limit (30km/h)',\n",
    "            2:'Speed limit (50km/h)',\n",
    "            3:'Speed limit (60km/h)',\n",
    "            4:'Speed limit (70km/h)',\n",
    "            5:'Speed limit (80km/h)',\n",
    "            6:'End of speed limit (80km/h)',\n",
    "            7:'Speed limit (100km/h)',\n",
    "            8:'Speed limit (120km/h)',\n",
    "            9:'No passing',\n",
    "            10:'No passing veh over 3.5 tons',\n",
    "            11:'Right-of-way at intersection',\n",
    "            12:'Priority road',\n",
    "            13:'Yield',\n",
    "            14:'Stop',\n",
    "            15:'No vehicles',\n",
    "            16:'Veh > 3.5 tons prohibited',\n",
    "            17:'No entry',\n",
    "            18:'General caution',\n",
    "            19:'Dangerous curve left',\n",
    "            20:'Dangerous curve right',\n",
    "            21:'Double curve',\n",
    "            22:'Bumpy road',\n",
    "            23:'Slippery road',\n",
    "            24:'Road narrows on the right',\n",
    "            25:'Road work',\n",
    "            26:'Traffic signals',\n",
    "            27:'Pedestrians',\n",
    "            28:'Children crossing',\n",
    "            29:'Bicycles crossing',\n",
    "            30:'Beware of ice/snow',\n",
    "            31:'Wild animals crossing',\n",
    "            32:'End speed + passing limits',\n",
    "            33:'Turn right ahead',\n",
    "            34:'Turn left ahead',\n",
    "            35:'Ahead only',\n",
    "            36:'Go straight or right',\n",
    "            37:'Go straight or left',\n",
    "            38:'Keep right',\n",
    "            39:'Keep left',\n",
    "            40:'Roundabout mandatory',\n",
    "            41:'End of no passing',\n",
    "            42:'End no passing veh > 3.5 tons'\n",
    "          }"
   ]
  },
  {
   "cell_type": "code",
   "execution_count": 47,
   "id": "7161488d",
   "metadata": {},
   "outputs": [],
   "source": [
    "from PIL import Image\n",
    "import numpy as np\n",
    "import matplotlib.pyplot as plt"
   ]
  },
  {
   "cell_type": "code",
   "execution_count": 38,
   "id": "ada949d9",
   "metadata": {},
   "outputs": [],
   "source": [
    "def test_on_img(img):\n",
    "    data = []\n",
    "    image = Image.open(img)\n",
    "    image = image.resize((30,30))\n",
    "    data.append(np.array(image))\n",
    "    X_test = np.array(data)\n",
    "    y_pred1 = model.predict(X_test)\n",
    "    y_pred2 = np.argmax(y_pred1, axis = 1)\n",
    "    return image,y_pred2"
   ]
  },
  {
   "cell_type": "code",
   "execution_count": 56,
   "id": "732d8ec6",
   "metadata": {},
   "outputs": [
    {
     "name": "stdout",
     "output_type": "stream",
     "text": [
      "1/1 [==============================] - 0s 23ms/step\n",
      "Predicted traffic sign is:  Turn left ahead\n"
     ]
    },
    {
     "data": {
      "image/png": "[encoded data removed]",
      "text/plain": [
       "<Figure size 640x480 with 1 Axes>"
      ]
     },
     "metadata": {},
     "output_type": "display_data"
    }
   ],
   "source": [
    "plot,prediction = test_on_img('Train/34/00034_00001_00029.png')\n",
    "s = [str(i) for i in prediction]\n",
    "a = int(''.join(s))\n",
    "print('Predicted traffic sign is: ', classes[a])\n",
    "plt.imshow(plot)\n",
    "plt.show()"
   ]
  },
  {
   "cell_type": "code",
   "execution_count": null,
   "id": "97da2083",
   "metadata": {},
   "outputs": [],
   "source": []
  }
 ],
 "metadata": {
  "kernelspec": {
   "display_name": "Python 3",
   "language": "python",
   "name": "python3"
  },
  "language_info": {
   "codemirror_mode": {
    "name": "ipython",
    "version": 3
   },
   "file_extension": ".py",
   "mimetype": "text/x-python",
   "name": "python",
   "nbconvert_exporter": "python",
   "pygments_lexer": "ipython3",
   "version": "3.11.1"
  },
  "vscode": {
   "interpreter": {
    "hash": "b8714cde6903272b7ca4292882db5cfcaa901f73da86e8047c98a3d067e8ffa3"
   }
  }
 },
 "nbformat": 4,
 "nbformat_minor": 5
}
